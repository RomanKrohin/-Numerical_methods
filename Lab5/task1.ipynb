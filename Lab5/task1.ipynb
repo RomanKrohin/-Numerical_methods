{
 "cells": [
  {
   "cell_type": "code",
   "execution_count": 4,
   "metadata": {},
   "outputs": [],
   "source": [
    "import numpy as np\n",
    "import pandas as pd\n",
    "from sklearn.model_selection import train_test_split\n",
    "from sklearn.linear_model import LinearRegression\n",
    "import statsmodels.api as sm\n",
    "import matplotlib.pyplot as plt\n",
    "from scipy import stats"
   ]
  },
  {
   "cell_type": "code",
   "execution_count": 5,
   "metadata": {},
   "outputs": [
    {
     "name": "stdout",
     "output_type": "stream",
     "text": [
      "(24, 3)\n",
      "(24,)\n"
     ]
    },
    {
     "name": "stderr",
     "output_type": "stream",
     "text": [
      "/tmp/ipykernel_4308/3156339589.py:4: SettingWithCopyWarning: \n",
      "A value is trying to be set on a copy of a slice from a DataFrame.\n",
      "Try using .loc[row_indexer,col_indexer] = value instead\n",
      "\n",
      "See the caveats in the documentation: https://pandas.pydata.org/pandas-docs/stable/user_guide/indexing.html#returning-a-view-versus-a-copy\n",
      "  datax[\"MPG.city\"] = (datax[\"MPG.city\"] - datax[\"MPG.city\"].min()) / (datax[\"MPG.city\"].max() - datax[\"MPG.city\"].min())\n",
      "/tmp/ipykernel_4308/3156339589.py:5: SettingWithCopyWarning: \n",
      "A value is trying to be set on a copy of a slice from a DataFrame.\n",
      "Try using .loc[row_indexer,col_indexer] = value instead\n",
      "\n",
      "See the caveats in the documentation: https://pandas.pydata.org/pandas-docs/stable/user_guide/indexing.html#returning-a-view-versus-a-copy\n",
      "  datax[\"MPG.highway\"] = (datax[\"MPG.highway\"] - datax[\"MPG.highway\"].min()) / (datax[\"MPG.highway\"].max() - datax[\"MPG.highway\"].min())\n",
      "/tmp/ipykernel_4308/3156339589.py:6: SettingWithCopyWarning: \n",
      "A value is trying to be set on a copy of a slice from a DataFrame.\n",
      "Try using .loc[row_indexer,col_indexer] = value instead\n",
      "\n",
      "See the caveats in the documentation: https://pandas.pydata.org/pandas-docs/stable/user_guide/indexing.html#returning-a-view-versus-a-copy\n",
      "  datax[\"Horsepower\"] = (datax[\"Horsepower\"] - datax[\"Horsepower\"].min()) / (datax[\"Horsepower\"].max() - datax[\"Horsepower\"].min())\n"
     ]
    }
   ],
   "source": [
    "data = pd.read_csv(\"cars93.csv\")\n",
    "\n",
    "datax = data[[\"MPG.city\", \"MPG.highway\", \"Horsepower\"]]\n",
    "datax[\"MPG.city\"] = (datax[\"MPG.city\"] - datax[\"MPG.city\"].min()) / (datax[\"MPG.city\"].max() - datax[\"MPG.city\"].min())\n",
    "datax[\"MPG.highway\"] = (datax[\"MPG.highway\"] - datax[\"MPG.highway\"].min()) / (datax[\"MPG.highway\"].max() - datax[\"MPG.highway\"].min())\n",
    "datax[\"Horsepower\"] = (datax[\"Horsepower\"] - datax[\"Horsepower\"].min()) / (datax[\"Horsepower\"].max() - datax[\"Horsepower\"].min())\n",
    "datax = datax.to_numpy()\n",
    "datay = data[\"Price\"].to_numpy()\n",
    "x_train, x_test, y_train, y_test = train_test_split(datax, datay, random_state=1488, test_size=0.25)\n",
    "\n",
    "print(x_test.shape)\n",
    "print(y_test.shape)"
   ]
  },
  {
   "cell_type": "code",
   "execution_count": 6,
   "metadata": {},
   "outputs": [],
   "source": [
    "def predict(x, weights, b):\n",
    "    return np.dot(x, weights)+b\n",
    "\n",
    "def do_linear_regression(x_train, y_train):\n",
    "    b = np.random.rand()\n",
    "    weights = np.array([np.random.rand() for i in range(x_train.shape[1])])\n",
    "    for _ in range(25):\n",
    "        for i in range (x_train.shape[0]):\n",
    "            pred = predict(x_train[i], weights, b)\n",
    "            loss =(pred - y_train[i])**2\n",
    "            \n",
    "            dw = 2 * x_train[i] * (pred - y_train[i])\n",
    "            db = 2 * (pred - y_train[i])\n",
    "            \n",
    "            weights -= 0.01 * dw\n",
    "            b -= 0.01 * db\n",
    "        print(loss)\n",
    "    return b, weights"
   ]
  },
  {
   "cell_type": "code",
   "execution_count": 7,
   "metadata": {},
   "outputs": [
    {
     "name": "stdout",
     "output_type": "stream",
     "text": [
      "41.1815085674396\n",
      "68.15298717861681\n",
      "63.085365919866\n",
      "54.08117357822006\n",
      "46.06306430018948\n",
      "39.46030658153491\n",
      "34.07520484144604\n",
      "29.672903221315096\n",
      "26.057426533916114\n",
      "23.073081553133516\n",
      "20.596953119605082\n",
      "18.53183791153432\n",
      "16.800606135420775\n",
      "15.341821864863746\n",
      "14.106353073555916\n",
      "13.054744872002203\n",
      "12.155179743012667\n",
      "11.381889600911979\n",
      "10.713916177706874\n",
      "10.134140452703203\n",
      "9.628520322637415\n",
      "9.185489819287781\n",
      "8.795483962718313\n",
      "8.45056158382802\n",
      "8.144104762819945\n"
     ]
    }
   ],
   "source": [
    "bias, weights = do_linear_regression(x_train, y_train)"
   ]
  },
  {
   "cell_type": "code",
   "execution_count": 8,
   "metadata": {},
   "outputs": [
    {
     "data": {
      "text/plain": [
       "array([14.32504531, 12.09762684, 18.66382513, 17.66506814, 15.5044563 ,\n",
       "       18.73390545, 14.67493591, 21.26473973,  8.67290055, 24.33503304,\n",
       "       22.20887821, 23.40812307,  9.69215973, 19.35613093, 19.3541939 ,\n",
       "       27.51296703, 12.60406791, 35.79954235, 22.62363841, 18.49979926,\n",
       "       20.54839837, 25.69653708, 23.23317777, 15.65402938])"
      ]
     },
     "execution_count": 8,
     "metadata": {},
     "output_type": "execute_result"
    }
   ],
   "source": [
    "predict(x_test, weights, bias)"
   ]
  },
  {
   "cell_type": "code",
   "execution_count": 9,
   "metadata": {},
   "outputs": [
    {
     "data": {
      "text/plain": [
       "array([13.4, 10.3, 19.7, 10. , 14.1, 31.9, 11.4, 18.4,  7.4, 16.3, 17.7,\n",
       "       26.3,  9.8, 20.2, 15.8, 19.3, 10. , 47.9, 19.1, 17.5, 19.8, 28. ,\n",
       "       24.4, 11.1])"
      ]
     },
     "execution_count": 9,
     "metadata": {},
     "output_type": "execute_result"
    }
   ],
   "source": [
    "y_test"
   ]
  },
  {
   "cell_type": "code",
   "execution_count": 10,
   "metadata": {},
   "outputs": [
    {
     "data": {
      "text/plain": [
       "array([-7.04099248, -5.2483589 , 25.09533916])"
      ]
     },
     "execution_count": 10,
     "metadata": {},
     "output_type": "execute_result"
    }
   ],
   "source": [
    "weights"
   ]
  },
  {
   "cell_type": "code",
   "execution_count": 11,
   "metadata": {},
   "outputs": [
    {
     "data": {
      "text/plain": [
       "13.761810393568448"
      ]
     },
     "execution_count": 11,
     "metadata": {},
     "output_type": "execute_result"
    }
   ],
   "source": [
    "bias"
   ]
  },
  {
   "cell_type": "code",
   "execution_count": 13,
   "metadata": {},
   "outputs": [
    {
     "name": "stdout",
     "output_type": "stream",
     "text": [
      "Коэффициент 0: 10.0914, t-статистика = 3.4046, p-value = 0.0011\n",
      "Коэффициент 1: -1.9374, t-статистика = -0.1328, p-value = 0.8948\n",
      "Коэффициент 2: -4.2660, t-статистика = -0.2974, p-value = 0.7671\n",
      "Коэффициент 3: 31.4913, t-статистика = 6.8164, p-value = 0.0000\n",
      "Коэффициент 0 значим (p < 0.05)\n",
      "Коэффициент 1 не значим (p >= 0.05)\n",
      "Коэффициент 2 не значим (p >= 0.05)\n",
      "Коэффициент 3 значим (p < 0.05)\n"
     ]
    }
   ],
   "source": [
    "X_train = np.column_stack((np.ones(x_train.shape[0]), x_train))\n",
    "X_test = np.column_stack((np.ones(x_test.shape[0]), x_test))\n",
    "\n",
    "coefficients = np.linalg.inv(X_train.T @ X_train) @ X_train.T @ y_train\n",
    "\n",
    "y_pred_train = X_train @ coefficients\n",
    "\n",
    "residuals = y_train - y_pred_train\n",
    "\n",
    "n = len(y_train)\n",
    "p = X_train.shape[1]\n",
    "\n",
    "residual_variance = np.sum(residuals**2) / (n - p)\n",
    "\n",
    "X_transpose_X_inv = np.linalg.inv(X_train.T @ X_train)\n",
    "coeff_variance = residual_variance * X_transpose_X_inv\n",
    "\n",
    "standard_errors = np.sqrt(np.diag(coeff_variance))\n",
    "\n",
    "t_statistics = coefficients / standard_errors\n",
    "\n",
    "p_values = [2 * (1 - stats.t.cdf(np.abs(t), n - p)) for t in t_statistics]\n",
    "\n",
    "for i, (coef, t_stat, p_val) in enumerate(zip(coefficients, t_statistics, p_values)):\n",
    "    print(f\"Коэффициент {i}: {coef:.4f}, t-статистика = {t_stat:.4f}, p-value = {p_val:.4f}\")\n",
    "\n",
    "alpha = 0.05\n",
    "significant = [p < alpha for p in p_values]\n",
    "\n",
    "for i, sig in enumerate(significant):\n",
    "    if sig:\n",
    "        print(f\"Коэффициент {i} значим (p < {alpha})\")\n",
    "    else:\n",
    "        print(f\"Коэффициент {i} не значим (p >= {alpha})\")\n"
   ]
  },
  {
   "cell_type": "code",
   "execution_count": 15,
   "metadata": {},
   "outputs": [
    {
     "name": "stdout",
     "output_type": "stream",
     "text": [
      "Остаточная дисперсия:\n",
      "40.3691000830347\n"
     ]
    }
   ],
   "source": [
    "y_pred = predict(x_train, weights, bias)\n",
    "residuals = y_train - y_pred\n",
    "residual_variance = np.sum(residuals**2) / (x_train.shape[0] - x_train.shape[1])\n",
    "print(\"Остаточная дисперсия:\")\n",
    "print(residual_variance)"
   ]
  },
  {
   "cell_type": "code",
   "execution_count": 17,
   "metadata": {},
   "outputs": [
    {
     "name": "stdout",
     "output_type": "stream",
     "text": [
      "Доверительные интервалы для коэффициентов модели:\n",
      "[[-8.60247056 -5.47951439]\n",
      " [-6.80983699 -3.68688082]\n",
      " [23.53386107 26.65681724]]\n"
     ]
    }
   ],
   "source": [
    "t_crit = stats.t.ppf(0.975, df=(x_train.shape[0] - x_train.shape[1]))\n",
    "stderr = np.sqrt(residual_variance / (x_train.shape[0] - x_train.shape[1]))\n",
    "conf_intervals = np.vstack((weights - t_crit * stderr, weights + t_crit * stderr)).T\n",
    "print(\"Доверительные интервалы для коэффициентов модели:\")\n",
    "print(conf_intervals)"
   ]
  },
  {
   "cell_type": "code",
   "execution_count": 18,
   "metadata": {},
   "outputs": [
    {
     "name": "stdout",
     "output_type": "stream",
     "text": [
      "Коэффициент детерминации R^2:\n",
      "0.6039631547515167\n"
     ]
    }
   ],
   "source": [
    "ss_total = np.sum((y_train - np.mean(y_train))**2)\n",
    "ss_residual = np.sum(residuals**2)\n",
    "r_squared = 1 - (ss_residual / ss_total)\n",
    "print(\"Коэффициент детерминации R^2:\")\n",
    "print(r_squared)"
   ]
  }
 ],
 "metadata": {
  "kernelspec": {
   "display_name": "Python 3",
   "language": "python",
   "name": "python3"
  },
  "language_info": {
   "codemirror_mode": {
    "name": "ipython",
    "version": 3
   },
   "file_extension": ".py",
   "mimetype": "text/x-python",
   "name": "python",
   "nbconvert_exporter": "python",
   "pygments_lexer": "ipython3",
   "version": "3.8.10"
  }
 },
 "nbformat": 4,
 "nbformat_minor": 2
}
