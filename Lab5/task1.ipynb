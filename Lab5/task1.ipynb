{
 "cells": [
  {
   "cell_type": "code",
   "execution_count": 58,
   "metadata": {},
   "outputs": [],
   "source": [
    "import numpy as np\n",
    "import pandas as pd\n",
    "from sklearn.model_selection import train_test_split\n",
    "from sklearn.linear_model import LinearRegression\n",
    "import statsmodels.api as sm\n",
    "import matplotlib.pyplot as plt"
   ]
  },
  {
   "cell_type": "code",
   "execution_count": 59,
   "metadata": {},
   "outputs": [
    {
     "name": "stdout",
     "output_type": "stream",
     "text": [
      "(24, 3)\n",
      "(24,)\n"
     ]
    },
    {
     "name": "stderr",
     "output_type": "stream",
     "text": [
      "/tmp/ipykernel_13832/3136766221.py:4: SettingWithCopyWarning: \n",
      "A value is trying to be set on a copy of a slice from a DataFrame.\n",
      "Try using .loc[row_indexer,col_indexer] = value instead\n",
      "\n",
      "See the caveats in the documentation: https://pandas.pydata.org/pandas-docs/stable/user_guide/indexing.html#returning-a-view-versus-a-copy\n",
      "  datax[\"MPG.city\"] = (datax[\"MPG.city\"] - datax[\"MPG.city\"].min()) / (datax[\"MPG.city\"].max() - datax[\"MPG.city\"].min())\n",
      "/tmp/ipykernel_13832/3136766221.py:5: SettingWithCopyWarning: \n",
      "A value is trying to be set on a copy of a slice from a DataFrame.\n",
      "Try using .loc[row_indexer,col_indexer] = value instead\n",
      "\n",
      "See the caveats in the documentation: https://pandas.pydata.org/pandas-docs/stable/user_guide/indexing.html#returning-a-view-versus-a-copy\n",
      "  datax[\"MPG.highway\"] = (datax[\"MPG.highway\"] - datax[\"MPG.highway\"].min()) / (datax[\"MPG.highway\"].max() - datax[\"MPG.highway\"].min())\n",
      "/tmp/ipykernel_13832/3136766221.py:6: SettingWithCopyWarning: \n",
      "A value is trying to be set on a copy of a slice from a DataFrame.\n",
      "Try using .loc[row_indexer,col_indexer] = value instead\n",
      "\n",
      "See the caveats in the documentation: https://pandas.pydata.org/pandas-docs/stable/user_guide/indexing.html#returning-a-view-versus-a-copy\n",
      "  datax[\"Horsepower\"] = (datax[\"Horsepower\"] - datax[\"Horsepower\"].min()) / (datax[\"Horsepower\"].max() - datax[\"Horsepower\"].min())\n"
     ]
    }
   ],
   "source": [
    "data = pd.read_csv(\"cars93.csv\")\n",
    "\n",
    "datax = data[[\"MPG.city\", \"MPG.highway\", \"Horsepower\"]]\n",
    "datax[\"MPG.city\"] = (datax[\"MPG.city\"] - datax[\"MPG.city\"].min()) / (datax[\"MPG.city\"].max() - datax[\"MPG.city\"].min())\n",
    "datax[\"MPG.highway\"] = (datax[\"MPG.highway\"] - datax[\"MPG.highway\"].min()) / (datax[\"MPG.highway\"].max() - datax[\"MPG.highway\"].min())\n",
    "datax[\"Horsepower\"] = (datax[\"Horsepower\"] - datax[\"Horsepower\"].min()) / (datax[\"Horsepower\"].max() - datax[\"Horsepower\"].min())\n",
    "datax = datax.to_numpy()\n",
    "datay = data[\"Price\"].to_numpy()\n",
    "x_train, x_test, y_train, y_test = train_test_split(datax, datay, random_state=1488, test_size=0.25)\n",
    "\n",
    "print(x_test.shape)\n",
    "print(y_test.shape)"
   ]
  },
  {
   "cell_type": "code",
   "execution_count": 64,
   "metadata": {},
   "outputs": [],
   "source": [
    "def predict(x, weights, b):\n",
    "    return np.dot(x, weights)+b\n",
    "\n",
    "def do_linear_regression(x_train, y_train):\n",
    "    b = np.random.rand()\n",
    "    weights = np.array([np.random.rand() for i in range(x_train.shape[1])])\n",
    "    for _ in range(25):\n",
    "        for i in range (x_train.shape[0]):\n",
    "            pred = predict(x_train[i], weights, b)\n",
    "            loss =(pred - y_train[i])**2\n",
    "            \n",
    "            dw = 2 * x_train[i] * (pred - y_train[i])\n",
    "            db = 2 * (pred - y_train[i])\n",
    "            \n",
    "            weights -= 0.01 * dw\n",
    "            b -= 0.01 * db\n",
    "        print(loss)\n",
    "    return b, weights"
   ]
  },
  {
   "cell_type": "code",
   "execution_count": 61,
   "metadata": {},
   "outputs": [
    {
     "name": "stdout",
     "output_type": "stream",
     "text": [
      "45.26715686427887\n",
      "71.16146346698035\n",
      "65.31096330238552\n",
      "55.78256134250451\n",
      "47.37244521613484\n",
      "40.46694936674328\n",
      "34.84595058741966\n",
      "30.25911989718722\n",
      "26.498882135910918\n",
      "23.400671551599185\n",
      "20.834748377546234\n",
      "18.698645820298086\n",
      "16.911165641360775\n",
      "15.40772002127557\n",
      "14.136729130282328\n",
      "13.056832045248594\n",
      "12.134722837317426\n",
      "11.34346756997351\n",
      "10.661191804420556\n",
      "10.07005407529985\n",
      "9.555440535667824\n",
      "9.105331033844422\n",
      "8.709798390875052\n",
      "8.360611444054665\n",
      "8.05091915413646\n"
     ]
    }
   ],
   "source": [
    "bias, weights = do_linear_regression(x_train, y_train)"
   ]
  },
  {
   "cell_type": "code",
   "execution_count": 62,
   "metadata": {},
   "outputs": [
    {
     "data": {
      "text/plain": [
       "array([14.30971987, 12.11630432, 18.63747808, 17.65554716, 15.50380131,\n",
       "       18.71132136, 14.66633952, 21.25401831,  8.696143  , 24.33213549,\n",
       "       22.19310317, 23.3994074 ,  9.71660427, 19.34151715, 19.36195869,\n",
       "       27.52478415, 12.59646083, 35.83227363, 22.61183406, 18.50474099,\n",
       "       20.56072979, 25.69581726, 23.22109757, 15.64024657])"
      ]
     },
     "execution_count": 62,
     "metadata": {},
     "output_type": "execute_result"
    }
   ],
   "source": [
    "predict(x_test, weights, bias)"
   ]
  },
  {
   "cell_type": "code",
   "execution_count": 65,
   "metadata": {},
   "outputs": [
    {
     "data": {
      "text/plain": [
       "array([13.4, 10.3, 19.7, 10. , 14.1, 31.9, 11.4, 18.4,  7.4, 16.3, 17.7,\n",
       "       26.3,  9.8, 20.2, 15.8, 19.3, 10. , 47.9, 19.1, 17.5, 19.8, 28. ,\n",
       "       24.4, 11.1])"
      ]
     },
     "execution_count": 65,
     "metadata": {},
     "output_type": "execute_result"
    }
   ],
   "source": [
    "y_test"
   ]
  },
  {
   "cell_type": "code",
   "execution_count": 67,
   "metadata": {},
   "outputs": [
    {
     "data": {
      "text/plain": [
       "array([-6.80415212, -5.34929486, 25.18586282])"
      ]
     },
     "execution_count": 67,
     "metadata": {},
     "output_type": "execute_result"
    }
   ],
   "source": [
    "weights"
   ]
  }
 ],
 "metadata": {
  "kernelspec": {
   "display_name": "Python 3",
   "language": "python",
   "name": "python3"
  },
  "language_info": {
   "codemirror_mode": {
    "name": "ipython",
    "version": 3
   },
   "file_extension": ".py",
   "mimetype": "text/x-python",
   "name": "python",
   "nbconvert_exporter": "python",
   "pygments_lexer": "ipython3",
   "version": "3.10.12"
  }
 },
 "nbformat": 4,
 "nbformat_minor": 2
}
