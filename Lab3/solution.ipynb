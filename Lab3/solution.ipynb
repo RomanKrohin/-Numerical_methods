{
 "cells": [
  {
   "cell_type": "markdown",
   "metadata": {},
   "source": [
    "## TASK 2\n",
    "Постройте асимптотический доверительный интервал уровня 1-𝛼  для указанного параметра  Проведите эксперимент по схеме, аналогичной первой задаче. Задача представлена в 5 вариантах. Сначала указывается класс распределений (однопараметрический) и оцениваемый параметр, затем параметры эксперимента и подсказки.\n",
    "Exp(𝜆); медиана;  𝜆 = 1;  воспользуйтесь предельной теоремой об асимптотическом поведении среднего члена вариационного ряда."
   ]
  },
  {
   "cell_type": "code",
   "execution_count": 11,
   "metadata": {},
   "outputs": [
    {
     "name": "stdout",
     "output_type": "stream",
     "text": [
      "Асимптотический доверительный интервал уровня 0.95 : (0.5466280330179776, 1.368207439865204)\n",
      "Истинная вероятность попадает в доверительный интервал.\n"
     ]
    }
   ],
   "source": [
    "import numpy as np\n",
    "from scipy.stats import norm\n",
    "\n",
    "def exp_confidence_interval(alpha, x, n):\n",
    "    # Вычисляем квантиль нормального распределения\n",
    "    z_alpha_half = norm.ppf(1 - alpha / 2)\n",
    "\n",
    "    # Вычисляем среднее и стандартное отклонение выборки\n",
    "    mean = np.mean(x)\n",
    "    std = np.std(x, ddof=1)\n",
    "\n",
    "    # Вычисляем границы доверительного интервала\n",
    "    lower_bound = mean - z_alpha_half * std / np.sqrt(n)\n",
    "    upper_bound = mean + z_alpha_half * std / np.sqrt(n)\n",
    "\n",
    "    return lower_bound, upper_bound\n",
    "\n",
    "# Заданные параметры\n",
    "alpha = 0.05  # Уровень значимости\n",
    "lambda_ = 1   # Истинный параметр лямбда\n",
    "n = 25        # Размер выборки\n",
    "\n",
    "# Генерируем выборку из экспоненциального распределения\n",
    "sample = np.random.exponential(scale=1/lambda_, size=n)\n",
    "\n",
    "# Расчет доверительного интервала\n",
    "lower_bound, upper_bound = exp_confidence_interval(alpha, sample, n)\n",
    "print(\"Асимптотический доверительный интервал уровня\", 1-alpha, \":\", (lower_bound, upper_bound))\n",
    "\n",
    "# Проверка попадания истинной вероятности в доверительный интервал\n",
    "if lower_bound <= np.log(2)/lambda_ <= upper_bound:\n",
    "    print(\"Истинная вероятность попадает в доверительный интервал.\")\n",
    "else:\n",
    "    print(\"Истинная вероятность НЕ попадает в доверительный интервал.\")\n"
   ]
  },
  {
   "cell_type": "code",
   "execution_count": 12,
   "metadata": {},
   "outputs": [
    {
     "name": "stdout",
     "output_type": "stream",
     "text": [
      "95% доверительный интервал покрывает истинное значение параметра 706 раз из 1000\n"
     ]
    }
   ],
   "source": [
    "trials = 1000\n",
    "hits = 0\n",
    "\n",
    "for _ in range(trials):\n",
    "    # Генерируем выборку из экспоненциального распределения\n",
    "    sample = np.random.exponential(scale=1/lambda_, size=n)\n",
    "\n",
    "    # Расчет доверительного интервала\n",
    "    lower_bound, upper_bound = exp_confidence_interval(alpha, sample, n)\n",
    "    \n",
    "    if lower_bound <= np.log(2)/lambda_ <= upper_bound:\n",
    "        hits += 1\n",
    "        \n",
    "print(\"95% доверительный интервал покрывает истинное значение параметра\", hits, \"раз из\", trials)"
   ]
  },
  {
   "cell_type": "code",
   "execution_count": 13,
   "metadata": {},
   "outputs": [
    {
     "name": "stdout",
     "output_type": "stream",
     "text": [
      "95% доверительный интервал покрывает истинное значение параметра 7069 раз из 10000\n"
     ]
    }
   ],
   "source": [
    "trials = 10_000\n",
    "hits = 0\n",
    "\n",
    "for _ in range(trials):\n",
    "    # Генерируем выборку из экспоненциального распределения\n",
    "    sample = np.random.exponential(scale=1/lambda_, size=n)\n",
    "\n",
    "    # Расчет доверительного интервала\n",
    "    lower_bound, upper_bound = exp_confidence_interval(alpha, sample, n)\n",
    "    \n",
    "    if lower_bound <= np.log(2)/lambda_ <= upper_bound:\n",
    "        hits += 1\n",
    "        \n",
    "print(\"95% доверительный интервал покрывает истинное значение параметра\", hits, \"раз из\", trials)"
   ]
  }
 ],
 "metadata": {
  "kernelspec": {
   "display_name": "Python 3",
   "language": "python",
   "name": "python3"
  },
  "language_info": {
   "codemirror_mode": {
    "name": "ipython",
    "version": 3
   },
   "file_extension": ".py",
   "mimetype": "text/x-python",
   "name": "python",
   "nbconvert_exporter": "python",
   "pygments_lexer": "ipython3",
   "version": "3.9.6"
  }
 },
 "nbformat": 4,
 "nbformat_minor": 2
}
