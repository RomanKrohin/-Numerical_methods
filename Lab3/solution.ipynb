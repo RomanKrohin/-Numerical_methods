{
 "cells": [
  {
   "cell_type": "markdown",
   "metadata": {},
   "source": [
    "## TASK 2\n",
    "Постройте асимптотический доверительный интервал уровня 1-𝛼  для указанного параметра  Проведите эксперимент по схеме, аналогичной первой задаче. Задача представлена в 5 вариантах. Сначала указывается класс распределений (однопараметрический) и оцениваемый параметр, затем параметры эксперимента и подсказки.\n",
    "Exp(𝜆); медиана;  𝜆 = 1;  воспользуйтесь предельной теоремой об асимптотическом поведении среднего члена вариационного ряда."
   ]
  },
  {
   "cell_type": "code",
   "execution_count": 3,
   "metadata": {},
   "outputs": [
    {
     "name": "stdout",
     "output_type": "stream",
     "text": [
      "Асимптотический доверительный интервал уровня 0.95 : (0.2577865471860597, 0.22773277441597828)\n",
      "Истинная вероятность НЕ попадает в доверительный интервал.\n",
      "Асимптотический доверительный интервал уровня 0.95 при объеме выборки 10.000: (0.25918413315388916, 0.24922085425655455)\n",
      "Истинная вероятность НЕ попадает в доверительный интервал.\n",
      "Истинная вероятность попадает в доверительный интервал 0 раз из 1000\n"
     ]
    }
   ],
   "source": [
    "import numpy as np\n",
    "from scipy.stats import norm, expon\n",
    "\n",
    "def exp_confidence_interval(alpha, n, median):\n",
    "    z_alpha_half = norm.ppf(1 - alpha / 2)\n",
    "\n",
    "    # Вычисляем границы доверительного интервала\n",
    "    lower_bound = median / np.exp(1) * np.exp(z_alpha_half / np.sqrt(n))\n",
    "    upper_bound = median / np.exp(1) * np.exp(-z_alpha_half / np.sqrt(n))\n",
    "\n",
    "    return lower_bound, upper_bound\n",
    "\n",
    "# Заданные параметры\n",
    "alpha = 0.05  # Уровень значимости\n",
    "n = 1000      # Размер выборки\n",
    "lambda_ = 1   # Истинное значение параметра\n",
    "\n",
    "# Генерируем выборку из экспоненциального распределения\n",
    "sample = expon.rvs(scale=1/lambda_, size=n)\n",
    "\n",
    "# Оцениваем параметр медиана с использованием ЦПТ\n",
    "median_hat = np.median(sample)\n",
    "\n",
    "# Расчет доверительного интервала\n",
    "lower_bound, upper_bound = exp_confidence_interval(alpha, n, median_hat)\n",
    "print(\"Асимптотический доверительный интервал уровня\", 1-alpha, \":\", (lower_bound, upper_bound))\n",
    "\n",
    "# Проверка попадания истинной вероятности в доверительный интервал\n",
    "if lower_bound <= np.log(2) / lambda_ <= upper_bound:\n",
    "    print(\"Истинная вероятность попадает в доверительный интервал.\")\n",
    "else:\n",
    "    print(\"Истинная вероятность НЕ попадает в доверительный интервал.\")\n",
    "\n",
    "# Проделаем то же самое, но при объеме выборки 10.000\n",
    "n = 10000\n",
    "sample = expon.rvs(scale=1/lambda_, size=n)\n",
    "median_hat = np.median(sample)\n",
    "lower_bound, upper_bound = exp_confidence_interval(alpha, n, median_hat)\n",
    "print(\"Асимптотический доверительный интервал уровня\", 1-alpha, \"при объеме выборки 10.000:\", (lower_bound, upper_bound))\n",
    "\n",
    "if lower_bound <= np.log(2) / lambda_ <= upper_bound:\n",
    "    print(\"Истинная вероятность попадает в доверительный интервал.\")\n",
    "else:\n",
    "    print(\"Истинная вероятность НЕ попадает в доверительный интервал.\")\n",
    "\n",
    "# Проверим, как часто истинная вероятность попадает в доверительный интервал\n",
    "num_trials = 1000\n",
    "num_success = 0\n",
    "for i in range(num_trials):\n",
    "    sample = expon.rvs(scale=1/lambda_, size=n)\n",
    "    median_hat = np.median(sample)\n",
    "    lower_bound, upper_bound = exp_confidence_interval(alpha, n, median_hat)\n",
    "    if lower_bound <= np.log(2) / lambda_ <= upper_bound:\n",
    "        num_success += 1\n",
    "\n",
    "print(\"Истинная вероятность попадает в доверительный интервал\", num_success, \"раз из\", num_trials)\n"
   ]
  }
 ],
 "metadata": {
  "kernelspec": {
   "display_name": "Python 3",
   "language": "python",
   "name": "python3"
  },
  "language_info": {
   "codemirror_mode": {
    "name": "ipython",
    "version": 3
   },
   "file_extension": ".py",
   "mimetype": "text/x-python",
   "name": "python",
   "nbconvert_exporter": "python",
   "pygments_lexer": "ipython3",
   "version": "3.9.6"
  }
 },
 "nbformat": 4,
 "nbformat_minor": 2
}
